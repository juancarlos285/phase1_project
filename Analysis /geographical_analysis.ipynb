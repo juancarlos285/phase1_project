{
 "cells": [
  {
   "cell_type": "code",
   "execution_count": null,
   "id": "65df5009",
   "metadata": {
    "scrolled": true
   },
   "outputs": [],
   "source": [
    "import pandas as pd\n",
    "import matplotlib.pyplot as plt\n",
    "import seaborn as sns\n",
    "import numpy as np\n",
    "%matplotlib inline\n",
    "\n",
    "df = pd.read_csv('../data/airplane_df.csv')"
   ]
  },
  {
   "cell_type": "markdown",
   "id": "0ea48737",
   "metadata": {},
   "source": [
    "## Filter to only US accidents "
   ]
  },
  {
   "cell_type": "code",
   "execution_count": null,
   "id": "c19ea4cb",
   "metadata": {},
   "outputs": [],
   "source": [
    "df = df.set_index('Event.Id')\n",
    "\n",
    "us_accidents = df[df['Country'] == 'United States']"
   ]
  },
  {
   "cell_type": "markdown",
   "id": "29da7486",
   "metadata": {},
   "source": [
    "## Group injuries by state "
   ]
  },
  {
   "cell_type": "code",
   "execution_count": null,
   "id": "33b26f45",
   "metadata": {},
   "outputs": [],
   "source": [
    "injuries_by_state = us_accidents.groupby('State').sum(numeric_only = True).loc[:, 'Total.Fatal.Injuries':]\n",
    "injuries_by_state['Total.People'] = injuries_by_state.sum(axis=1)"
   ]
  },
  {
   "cell_type": "code",
   "execution_count": null,
   "id": "28b4fec3",
   "metadata": {},
   "outputs": [],
   "source": [
    "injuries_by_state"
   ]
  },
  {
   "cell_type": "markdown",
   "id": "e29fde79",
   "metadata": {},
   "source": [
    "## Quick visualization of injury distribution by state \n",
    "Here we can see how in every state, the majority of people were uninjured after an airplane incident."
   ]
  },
  {
   "cell_type": "code",
   "execution_count": null,
   "id": "7223c09c",
   "metadata": {
    "scrolled": true
   },
   "outputs": [],
   "source": [
    "plt.style.use('ggplot')\n",
    "injuries_by_state[injuries_by_state.columns[:4]].plot(kind='barh', stacked=True, figsize=(12, 12),\n",
    "                                                     ylabel='Number of People', xlabel = 'States');"
   ]
  },
  {
   "cell_type": "markdown",
   "id": "7be02383",
   "metadata": {},
   "source": [
    "# Fatality percentage\n",
    "A column has been added for the fatality percentage by state. This was obtained by dividing the number of total fatal injuries by the total number of people involved in the accidents."
   ]
  },
  {
   "cell_type": "code",
   "execution_count": null,
   "id": "47d583a1",
   "metadata": {},
   "outputs": [],
   "source": [
    "injuries_by_state['Fatality.Perc'] = (injuries_by_state['Total.Fatal.Injuries'] / injuries_by_state['Total.People']) * 100\n",
    "injuries_by_state.sort_values(by='Fatality.Perc', ascending=False)"
   ]
  },
  {
   "cell_type": "markdown",
   "id": "e052b776",
   "metadata": {},
   "source": [
    "## Total Accidents\n",
    "Here we have added a column for the total accidents per state."
   ]
  },
  {
   "cell_type": "code",
   "execution_count": null,
   "id": "9ba48876",
   "metadata": {},
   "outputs": [],
   "source": [
    "accidents_per_state = us_accidents.groupby('State').count()['Accident.Number'].rename('Total.Accidents')\n",
    "injuries_by_state = injuries_by_state.merge(accidents_per_state, on='State', how='left')\n",
    "injuries_by_state"
   ]
  },
  {
   "cell_type": "markdown",
   "id": "8bb27a5d",
   "metadata": {},
   "source": [
    "## Average Plane Capacity\n",
    "Here we can see the average plane capacity determined by dividing the total number of people by the total number of accidents.\n",
    "\n",
    "The table below has been adjusted, so we can only see the states with number of accidents in the 25th percentile. Anything lower than that can provide deceptive information. For example, a place that has only had one very serious accident would show a disproportionately high fatality percentage."
   ]
  },
  {
   "cell_type": "code",
   "execution_count": null,
   "id": "542a6983",
   "metadata": {},
   "outputs": [],
   "source": [
    "injuries_by_state['Avg.Plane.Capacity'] = injuries_by_state['Total.People'] / injuries_by_state['Total.Accidents']"
   ]
  },
  {
   "cell_type": "code",
   "execution_count": null,
   "id": "d2badb7d",
   "metadata": {},
   "outputs": [],
   "source": [
    "injuries_by_state[['Total.People', 'Fatality.Perc', 'Total.Accidents', 'Avg.Plane.Capacity']].sort_values(by=['Total.Accidents'], ascending=False). \\\n",
    "loc[(injuries_by_state['Total.Accidents'] >= injuries_by_state['Total.Accidents'].quantile(0.25))]"
   ]
  },
  {
   "cell_type": "markdown",
   "id": "08898a17",
   "metadata": {},
   "source": [
    "## Fatality percentage vs average plane capacity\n",
    "We can observe that there's a clear exponential decay in fatalities as the plane capacity increases."
   ]
  },
  {
   "cell_type": "code",
   "execution_count": null,
   "id": "da88fc3a",
   "metadata": {
    "scrolled": false
   },
   "outputs": [],
   "source": [
    "injuries_by_state.plot(kind='scatter', y='Fatality.Perc', x='Avg.Plane.Capacity');"
   ]
  },
  {
   "cell_type": "markdown",
   "id": "b5d9e8f5",
   "metadata": {},
   "source": [
    "## Export to CSV. DO NOT RUN the cell below unless an export of 'injuries_by_state' file is needed."
   ]
  },
  {
   "cell_type": "code",
   "execution_count": null,
   "id": "44ca4ab9",
   "metadata": {},
   "outputs": [],
   "source": [
    "\n",
    "#injuries_by_state.to_csv('injuries_by_state.csv', encoding='UTF-8')"
   ]
  }
 ],
 "metadata": {
  "kernelspec": {
   "display_name": "learn-env",
   "language": "python",
   "name": "myenv"
  },
  "language_info": {
   "codemirror_mode": {
    "name": "ipython",
    "version": 3
   },
   "file_extension": ".py",
   "mimetype": "text/x-python",
   "name": "python",
   "nbconvert_exporter": "python",
   "pygments_lexer": "ipython3",
   "version": "3.11.5"
  }
 },
 "nbformat": 4,
 "nbformat_minor": 5
}
